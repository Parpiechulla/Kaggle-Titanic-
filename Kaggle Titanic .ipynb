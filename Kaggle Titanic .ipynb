{
 "cells": [
  {
   "cell_type": "markdown",
   "metadata": {},
   "source": [
    "## RMC Titanic Predicitive Analysis (73.9% Accuracy)"
   ]
  },
  {
   "cell_type": "code",
   "execution_count": null,
   "metadata": {},
   "outputs": [],
   "source": [
    "import pandas as pd \n",
    "import numpy as np\n",
    "from sklearn.impute import SimpleImputer"
   ]
  },
  {
   "cell_type": "code",
   "execution_count": null,
   "metadata": {},
   "outputs": [],
   "source": [
    "train_data = pd.read_csv(\"train.csv\")\n",
    "test_data = pd.read_csv(\"test.csv\")"
   ]
  },
  {
   "cell_type": "code",
   "execution_count": null,
   "metadata": {},
   "outputs": [],
   "source": [
    "# train_data.head()\n",
    "# test_data.head()"
   ]
  },
  {
   "cell_type": "code",
   "execution_count": null,
   "metadata": {},
   "outputs": [],
   "source": [
    "# CHECK FOR COLUMNS WITH MISSING VALUES IN BOTH DATASET\n",
    "\n",
    "dataset = [test_data, train_data]\n",
    "for data in dataset:\n",
    "    print(data.columns)"
   ]
  },
  {
   "cell_type": "code",
   "execution_count": null,
   "metadata": {},
   "outputs": [],
   "source": [
    "# DROP CABIN COLUMN \n",
    "for data in dataset:\n",
    "    data.drop(columns=\"Cabin\", inplace=True)\n",
    "\n",
    "# FILL NULL VALUES IN FARE COLUMN WITH THE AVERAGE \n",
    "for data in dataset:    \n",
    "    if data[\"Fare\"].isnull().any():\n",
    "        data[\"Fare\"] = data[\"Fare\"].mean()\n",
    "        \n",
    "# DROP TICKET COLUMN \n",
    "for data in dataset:\n",
    "    data.drop(columns=\"Ticket\", inplace=True)\n",
    "    \n",
    "# FILL NULL VALUES IN EMBARKED COLUMN WITH \"C\"\n",
    "for data in dataset:\n",
    "    if data[\"Embarked\"].isna().any():\n",
    "        data[\"Embarked\"] = \"C\""
   ]
  },
  {
   "cell_type": "code",
   "execution_count": null,
   "metadata": {},
   "outputs": [],
   "source": [
    "## FILL EMPTY AGE COLUMN WITH AGES BETWEEN THE MEAN AND STANDARD DEVIATION \n",
    "\n",
    "for data in dataset:\n",
    "    \n",
    "    # Calculate mean and standard deviation\n",
    "    mean = data[\"Age\"].mean()\n",
    "    std = data[\"Age\"].std()\n",
    "    \n",
    "    # Select columns where age isnull  \n",
    "    empty_age = data[\"Age\"].isna().sum()\n",
    "\n",
    "    # Generate random numbers between mean and standard deviation \n",
    "    random_age = np.random.randint(mean-std, mean+std, size=empty_age)\n",
    "    \n",
    "    # Copy age column \n",
    "    age_slice = data[\"Age\"].copy()\n",
    "    \n",
    "    # Let randomly generated numbers equal ages in copied column \n",
    "    age_slice[np.isnan(age_slice)] = random_age\n",
    "    \n",
    "    data[\"Age\"] = age_slice\n",
    "    data[\"Age\"] = data[\"Age\"].astype(int)\n",
    "\n",
    "data[\"Age\"].isna().sum()"
   ]
  },
  {
   "cell_type": "code",
   "execution_count": null,
   "metadata": {},
   "outputs": [],
   "source": [
    "# Convert *all datatypes needed for predictive analysis to integers \n",
    "\n",
    "for data in dataset:\n",
    "    #1\n",
    "    data[\"Fare\"] = data[\"Fare\"].astype(int)\n",
    "    #2\n",
    "    gender = {\"male\": 0, \"female\": 1}\n",
    "    data[\"Sex\"] = data[\"Sex\"].map(gender)\n",
    "\n",
    "    #3\n",
    "    ports = {\"S\": 1, \"C\": 2, \"Q\": 3}\n",
    "    data[\"Embarked\"] = data[\"Embarked\"].map(ports)"
   ]
  },
  {
   "cell_type": "code",
   "execution_count": null,
   "metadata": {},
   "outputs": [],
   "source": [
    "## MODEL BUILDING \n",
    "\n",
    "from sklearn.tree import DecisionTreeRegressor\n",
    "from sklearn.model_selection import train_test_split\n",
    "from sklearn.metrics import mean_absolute_error"
   ]
  },
  {
   "cell_type": "code",
   "execution_count": null,
   "metadata": {},
   "outputs": [],
   "source": [
    "y_train = train_data[\"Survived\"]\n",
    "X_train = train_data[[\"Pclass\", \"Sex\", \"Age\", \"SibSp\", \"Parch\", \"Embarked\"]]\n",
    "X_test = test_data[[\"Pclass\", \"Sex\", \"Age\", \"SibSp\", \"Parch\", \"Embarked\"]]\n",
    "\n",
    "\n",
    "model = DecisionTreeRegressor()\n",
    "model.fit(X_train,y_train)\n",
    "test_data[\"Survived\"] = model.predict(X_test)\n",
    "test_data[\"Survived\"] = test_data[\"Survived\"].astype(int)\n",
    "\n",
    "\n",
    "test = test_data[[\"PassengerId\", \"Survived\"]]"
   ]
  },
  {
   "cell_type": "code",
   "execution_count": null,
   "metadata": {},
   "outputs": [],
   "source": [
    "test.to_csv(\"final solution2.csv\", index=False)"
   ]
  },
  {
   "cell_type": "code",
   "execution_count": null,
   "metadata": {},
   "outputs": [],
   "source": []
  }
 ],
 "metadata": {
  "kernelspec": {
   "display_name": "Python 3",
   "language": "python",
   "name": "python3"
  },
  "language_info": {
   "codemirror_mode": {
    "name": "ipython",
    "version": 3
   },
   "file_extension": ".py",
   "mimetype": "text/x-python",
   "name": "python",
   "nbconvert_exporter": "python",
   "pygments_lexer": "ipython3",
   "version": "3.8.2"
  }
 },
 "nbformat": 4,
 "nbformat_minor": 4
}
