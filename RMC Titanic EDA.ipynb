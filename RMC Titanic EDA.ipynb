{
 "cells": [
  {
   "cell_type": "markdown",
   "metadata": {},
   "source": [
    "## Kaggle Titanic Data Analysis and Prediction \n",
    "### Analysis:\n",
    "The sinking of the Titanic is one of the most infamous shipwrecks in history.\n",
    "\n",
    "On April 15, 1912, during her maiden voyage, the widely considered “unsinkable” RMS Titanic sank after colliding with an iceberg. Unfortunately, there weren’t enough lifeboats for everyone onboard, resulting in the death of a number of passengers and crew.\n",
    "\n",
    "While there was some element of luck involved in surviving, it seems some groups of people were more likely to survive than others\n",
    "\n",
    "In this analysis, we are taking a deep dive into a sample (train) data and looking for patterns or factors that play a role in chances of survival."
   ]
  },
  {
   "cell_type": "code",
   "execution_count": 1,
   "metadata": {
    "jupyter": {
     "source_hidden": true
    }
   },
   "outputs": [],
   "source": [
    "import pandas as pd \n",
    "import numpy as np \n",
    "import matplotlib.pyplot as plt \n",
    "import seaborn as sns "
   ]
  },
  {
   "cell_type": "code",
   "execution_count": 3,
   "metadata": {
    "jupyter": {
     "source_hidden": true
    }
   },
   "outputs": [],
   "source": [
    "# load the data \n",
    "titanic = pd.read_csv(\"train.csv\")"
   ]
  },
  {
   "cell_type": "code",
   "execution_count": 15,
   "metadata": {
    "collapsed": true,
    "jupyter": {
     "outputs_hidden": true,
     "source_hidden": true
    }
   },
   "outputs": [
    {
     "data": {
      "text/html": [
       "<div>\n",
       "<style scoped>\n",
       "    .dataframe tbody tr th:only-of-type {\n",
       "        vertical-align: middle;\n",
       "    }\n",
       "\n",
       "    .dataframe tbody tr th {\n",
       "        vertical-align: top;\n",
       "    }\n",
       "\n",
       "    .dataframe thead th {\n",
       "        text-align: right;\n",
       "    }\n",
       "</style>\n",
       "<table border=\"1\" class=\"dataframe\">\n",
       "  <thead>\n",
       "    <tr style=\"text-align: right;\">\n",
       "      <th></th>\n",
       "      <th>PassengerId</th>\n",
       "      <th>Survived</th>\n",
       "      <th>Pclass</th>\n",
       "      <th>Name</th>\n",
       "      <th>Sex</th>\n",
       "      <th>Age</th>\n",
       "      <th>SibSp</th>\n",
       "      <th>Parch</th>\n",
       "      <th>Ticket</th>\n",
       "      <th>Fare</th>\n",
       "      <th>Cabin</th>\n",
       "      <th>Embarked</th>\n",
       "    </tr>\n",
       "  </thead>\n",
       "  <tbody>\n",
       "    <tr>\n",
       "      <th>0</th>\n",
       "      <td>1</td>\n",
       "      <td>Died</td>\n",
       "      <td>3</td>\n",
       "      <td>Braund, Mr. Owen Harris</td>\n",
       "      <td>male</td>\n",
       "      <td>20-30</td>\n",
       "      <td>1</td>\n",
       "      <td>0</td>\n",
       "      <td>A/5 21171</td>\n",
       "      <td>7.2500</td>\n",
       "      <td>NaN</td>\n",
       "      <td>S</td>\n",
       "    </tr>\n",
       "    <tr>\n",
       "      <th>1</th>\n",
       "      <td>2</td>\n",
       "      <td>Survived</td>\n",
       "      <td>1</td>\n",
       "      <td>Cumings, Mrs. John Bradley (Florence Briggs Th...</td>\n",
       "      <td>female</td>\n",
       "      <td>30-40</td>\n",
       "      <td>1</td>\n",
       "      <td>0</td>\n",
       "      <td>PC 17599</td>\n",
       "      <td>71.2833</td>\n",
       "      <td>C85</td>\n",
       "      <td>C</td>\n",
       "    </tr>\n",
       "    <tr>\n",
       "      <th>2</th>\n",
       "      <td>3</td>\n",
       "      <td>Survived</td>\n",
       "      <td>3</td>\n",
       "      <td>Heikkinen, Miss. Laina</td>\n",
       "      <td>female</td>\n",
       "      <td>20-30</td>\n",
       "      <td>0</td>\n",
       "      <td>0</td>\n",
       "      <td>STON/O2. 3101282</td>\n",
       "      <td>7.9250</td>\n",
       "      <td>NaN</td>\n",
       "      <td>S</td>\n",
       "    </tr>\n",
       "    <tr>\n",
       "      <th>3</th>\n",
       "      <td>4</td>\n",
       "      <td>Survived</td>\n",
       "      <td>1</td>\n",
       "      <td>Futrelle, Mrs. Jacques Heath (Lily May Peel)</td>\n",
       "      <td>female</td>\n",
       "      <td>30-40</td>\n",
       "      <td>1</td>\n",
       "      <td>0</td>\n",
       "      <td>113803</td>\n",
       "      <td>53.1000</td>\n",
       "      <td>C123</td>\n",
       "      <td>S</td>\n",
       "    </tr>\n",
       "    <tr>\n",
       "      <th>4</th>\n",
       "      <td>5</td>\n",
       "      <td>Died</td>\n",
       "      <td>3</td>\n",
       "      <td>Allen, Mr. William Henry</td>\n",
       "      <td>male</td>\n",
       "      <td>30-40</td>\n",
       "      <td>0</td>\n",
       "      <td>0</td>\n",
       "      <td>373450</td>\n",
       "      <td>8.0500</td>\n",
       "      <td>NaN</td>\n",
       "      <td>S</td>\n",
       "    </tr>\n",
       "  </tbody>\n",
       "</table>\n",
       "</div>"
      ],
      "text/plain": [
       "   PassengerId  Survived  Pclass  \\\n",
       "0            1      Died       3   \n",
       "1            2  Survived       1   \n",
       "2            3  Survived       3   \n",
       "3            4  Survived       1   \n",
       "4            5      Died       3   \n",
       "\n",
       "                                                Name     Sex    Age  SibSp  \\\n",
       "0                            Braund, Mr. Owen Harris    male  20-30      1   \n",
       "1  Cumings, Mrs. John Bradley (Florence Briggs Th...  female  30-40      1   \n",
       "2                             Heikkinen, Miss. Laina  female  20-30      0   \n",
       "3       Futrelle, Mrs. Jacques Heath (Lily May Peel)  female  30-40      1   \n",
       "4                           Allen, Mr. William Henry    male  30-40      0   \n",
       "\n",
       "   Parch            Ticket     Fare Cabin Embarked  \n",
       "0      0         A/5 21171   7.2500   NaN        S  \n",
       "1      0          PC 17599  71.2833   C85        C  \n",
       "2      0  STON/O2. 3101282   7.9250   NaN        S  \n",
       "3      0            113803  53.1000  C123        S  \n",
       "4      0            373450   8.0500   NaN        S  "
      ]
     },
     "execution_count": 15,
     "metadata": {},
     "output_type": "execute_result"
    }
   ],
   "source": [
    "titanic.head()"
   ]
  },
  {
   "cell_type": "code",
   "execution_count": 5,
   "metadata": {
    "jupyter": {
     "source_hidden": true
    }
   },
   "outputs": [],
   "source": [
    "# Rename the Survived column for the sake of proper visualization\n",
    "titanic[\"Survived\"].replace(1, \"Survived\", inplace=True)\n",
    "titanic[\"Survived\"].replace(0, \"Died\", inplace=True)"
   ]
  },
  {
   "cell_type": "code",
   "execution_count": 11,
   "metadata": {
    "collapsed": true,
    "jupyter": {
     "outputs_hidden": true,
     "source_hidden": true
    }
   },
   "outputs": [
    {
     "data": {
      "text/plain": [
       "0"
      ]
     },
     "execution_count": 11,
     "metadata": {},
     "output_type": "execute_result"
    }
   ],
   "source": [
    "# fill the missing values in age column with the mean age \n",
    "mean_age = round(titanic[\"Age\"].mean())\n",
    "titanic[\"Age\"].fillna(mean_age, inplace=True)"
   ]
  },
  {
   "cell_type": "code",
   "execution_count": 13,
   "metadata": {
    "jupyter": {
     "source_hidden": true
    }
   },
   "outputs": [],
   "source": [
    "# Divide age data into ranges for visualization purpose\n",
    "for age in titanic[\"Age\"]:\n",
    "    if age in range(0,11):\n",
    "        titanic[\"Age\"].replace(age, \"0-10\", inplace=True)\n",
    "    elif age in range(10,21): \n",
    "        titanic[\"Age\"].replace(age, \"10-20\", inplace=True)\n",
    "    elif age in range(20,31): \n",
    "        titanic[\"Age\"].replace(age, \"20-30\", inplace=True) \n",
    "    elif age in range(30,41): \n",
    "        titanic[\"Age\"].replace(age, \"30-40\", inplace=True) \n",
    "    elif age in range(40,51): \n",
    "        titanic[\"Age\"].replace(age, \"40-50\", inplace=True)\n",
    "    elif age in range(50,61): \n",
    "        titanic[\"Age\"].replace(age, \"50-60\", inplace=True)\n",
    "    elif age in range(60,71): \n",
    "        titanic[\"Age\"].replace(age, \"60-70\", inplace=True)\n",
    "    elif age in range(70,81): \n",
    "        titanic[\"Age\"].replace(age, \"70-80\", inplace=True)    \n",
    "    else: \n",
    "        titanic[\"Age\"].replace(age, \"other\", inplace=True)"
   ]
  },
  {
   "cell_type": "markdown",
   "metadata": {},
   "source": [
    "Our first step into this deep dive is taking a detailed look at the information of people who boarded the RMC Titanic, determining the average age of people who boarded, the age distribution, how much male/females boarded(gender distribution) etc."
   ]
  },
  {
   "cell_type": "code",
   "execution_count": 23,
   "metadata": {
    "jupyter": {
     "source_hidden": true
    }
   },
   "outputs": [
    {
     "data": {
      "image/png": "[encoded data removed]",
      "text/plain": [
       "<Figure size 1296x432 with 1 Axes>"
      ]
     },
     "metadata": {},
     "output_type": "display_data"
    }
   ],
   "source": [
    "# Create a bar chart showing age range of people who boarded the titanic \n",
    "age_data = titanic[\"Age\"].value_counts().sort_index()\n",
    "plt.figure(figsize=(18, 6))\n",
    "plt.title(\"Age Distribution\", fontsize=15, fontweight='bold')\n",
    "plt.xlabel(\"Age Range\")\n",
    "plt.ylabel(\"Age-Range Frequency\")\n",
    "\n",
    "graph = sns.barplot(x=age_data.index, y=age_data, palette=\"Blues_d\")\n",
    "sns.set_style(\"darkgrid\")\n",
    "for p in graph.patches:\n",
    "        graph.annotate('{:.0f}'.format(p.get_height()), (p.get_x()+0.3, p.get_height()),\n",
    "                    ha='center', va='bottom',\n",
    "                    color= 'black')"
   ]
  },
  {
   "cell_type": "markdown",
   "metadata": {},
   "source": [
    "#### Age Distribution:\n",
    "Although with a mean age of 30 years it is seen from the chart above that most of the people who boarded the titanic were between the ages of 20 and 30 years old "
   ]
  },
  {
   "cell_type": "markdown",
   "metadata": {},
   "source": []
  },
  {
   "cell_type": "code",
   "execution_count": 27,
   "metadata": {
    "jupyter": {
     "source_hidden": true
    }
   },
   "outputs": [
    {
     "data": {
      "image/png": "[encoded data removed]",
      "text/plain": [
       "<Figure size 648x360 with 1 Axes>"
      ]
     },
     "metadata": {},
     "output_type": "display_data"
    }
   ],
   "source": [
    "sex_surv = titanic.groupby(\"Survived\")[\"Sex\"].value_counts().sort_index().unstack()\n",
    "\n",
    "fig, ax = plt.subplots(1,1, figsize=(9,5))\n",
    "bf = np.zeros(len(sex_surv), dtype=float)\n",
    "sex_surv\n",
    "\n",
    "for col in sex_surv.columns:\n",
    "    ax.bar(sex_surv.index, sex_surv[col], width=0.3, bottom=bf, label=col)\n",
    "    bf += sex_surv[col]\n",
    "    \n",
    "for p in ax.patches:\n",
    "    width, height = p.get_width(), p.get_height()\n",
    "    x, y = p.get_xy() \n",
    "    ax.text(x+width/2, \n",
    "            y+height/2, \n",
    "            '{:.0f} %'.format((height/891) * 100), \n",
    "            horizontalalignment='center', \n",
    "            verticalalignment='center')\n",
    "    \n",
    "    \n",
    "ax.set_title(\"Survival status/Gender Relationship\", loc=\"center\", fontsize=12, fontweight='bold')    \n",
    "ax.legend()\n",
    "plt.show()"
   ]
  },
  {
   "cell_type": "markdown",
   "metadata": {},
   "source": [
    "### Survival Percentage:\n",
    "Based off this analysis it is observed in the chart above that 62% of the passengers in this survey data died in the fatal accident and out of the survivors females had a higher survival rate. \n",
    "\n",
    "Our next talking point is going to be to determine if age played a major role in the survival chances of the passengers on the cruise like the gender did. The chart below gives us a better insight. "
   ]
  },
  {
   "cell_type": "code",
   "execution_count": 24,
   "metadata": {
    "jupyter": {
     "source_hidden": true
    }
   },
   "outputs": [
    {
     "data": {
      "image/png": "[encoded data removed]",
      "text/plain": [
       "<Figure size 1296x360 with 1 Axes>"
      ]
     },
     "metadata": {},
     "output_type": "display_data"
    }
   ],
   "source": [
    "age_surv = titanic.groupby(\"Age\")[\"Survived\"].value_counts().sort_index().unstack()\n",
    "\n",
    "fig, ax = plt.subplots(1,1, figsize=(18, 5))\n",
    "af = np.zeros(len(age_surv), dtype=float)\n",
    "\n",
    "for col in age_surv.columns:\n",
    "    ax.bar(age_surv.index, age_surv[col], width=0.6, bottom=af, label=col)\n",
    "    af += age_surv[col]\n",
    "    \n",
    "for p in ax.patches:\n",
    "    width, height = p.get_width(), p.get_height()\n",
    "    x, y = p.get_xy() \n",
    "    ax.text(x+width/2, \n",
    "            y+height/2, \n",
    "            '{:.0f}'.format(height), \n",
    "            horizontalalignment='center', \n",
    "            verticalalignment='center')\n",
    "    \n",
    "ax.legend()\n",
    "plt.title(\"Age/Survival Relationship\", fontsize=15, fontweight='bold')\n",
    "plt.xlabel(\"Age Range\")\n",
    "plt.ylabel(\"Count\")\n",
    "plt.show()"
   ]
  },
  {
   "cell_type": "markdown",
   "metadata": {},
   "source": [
    "From our analysis we see that young people within the age of twenty and thirty had higher chances of surviving, of the 342 people who survived 136 (39%) of them fall in this age range as well as 266 of the 549.\n",
    "\n",
    "It is observed from this chart that only people in the 0-10 age range had a higher survival/death ratio, 54% of people in this age range survived this accident while people in the 70-80 age range had the lowest survival ratio with 75% of people in that age range dieing. "
   ]
  },
  {
   "cell_type": "code",
   "execution_count": null,
   "metadata": {},
   "outputs": [],
   "source": []
  }
 ],
 "metadata": {
  "kernelspec": {
   "display_name": "Python 3",
   "language": "python",
   "name": "python3"
  },
  "language_info": {
   "codemirror_mode": {
    "name": "ipython",
    "version": 3
   },
   "file_extension": ".py",
   "mimetype": "text/x-python",
   "name": "python",
   "nbconvert_exporter": "python",
   "pygments_lexer": "ipython3",
   "version": "3.8.2"
  }
 },
 "nbformat": 4,
 "nbformat_minor": 4
}
